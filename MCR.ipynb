{
 "cells": [
  {
   "cell_type": "code",
   "execution_count": 2,
   "id": "occupied-hunter",
   "metadata": {},
   "outputs": [],
   "source": [
    "import csv\n",
    "import random\n",
    "from collections import defaultdict"
   ]
  },
  {
   "cell_type": "code",
   "execution_count": 3,
   "id": "bound-wonder",
   "metadata": {},
   "outputs": [],
   "source": [
    "LEMMAS = \"./polimorfologik-2.1/polimorfologik-2.1.txt\"\n",
    "QUOTES_FILE = \"cytaty.txt\"\n",
    "forbiddenWords = [\"go\", \"on\", \"ich\", \"ona\", \"jego\", \"ono\", \"jej\", \"mu\", \"jemu\"]\n",
    "defaultAnswers = [\"Ładna dziś pogoda, prawda?\", \"Może zmieńmy temat\"]"
   ]
  },
  {
   "cell_type": "code",
   "execution_count": 8,
   "id": "global-bride",
   "metadata": {},
   "outputs": [
    {
     "name": "stdout",
     "output_type": "stream",
     "text": [
      "['AA', 'AA', 'subst:pl:acc:m3+subst:pl:acc:n2+subst:pl:acc:p1+subst:pl:dat:m3+subst:pl:dat:n2+subst:pl:dat:p1+subst:pl:gen:m3+subst:pl:gen:n2+subst:pl:gen:p1+subst:pl:inst:m3+subst:pl:inst:n2+subst:pl:inst:p1+subst:pl:loc:m3+subst:pl:loc:n2+subst:pl:loc:p1+subst:pl:nom:m3+subst:pl:nom:n2+subst:pl:nom:p1+subst:pl:voc:m3+subst:pl:voc:n2+subst:pl:voc:p1+subst:sg:acc:m3+subst:sg:acc:n2+subst:sg:dat:m3+subst:sg:dat:n2+subst:sg:gen:m3+subst:sg:gen:n2+subst:sg:inst:m3+subst:sg:inst:n2+subst:sg:loc:m3+subst:sg:loc:n2+subst:sg:nom:m3+subst:sg:nom:n2+subst:sg:voc:m3+subst:sg:voc:n2']\n",
      "AA\n",
      "AA\n"
     ]
    }
   ],
   "source": [
    "lemmasDict = {}\n",
    "\n",
    "with open(LEMMAS) as f:\n",
    "    for line in csv.reader(f, delimiter=';'):\n",
    "        lemmasDict[line[1]] = line[0]\n"
   ]
  },
  {
   "cell_type": "code",
   "execution_count": 5,
   "id": "dedicated-capital",
   "metadata": {},
   "outputs": [
    {
     "name": "stderr",
     "output_type": "stream",
     "text": [
      "IOPub data rate exceeded.\n",
      "The notebook server will temporarily stop sending output\n",
      "to the client in order to avoid crashing it.\n",
      "To change this limit, set the config variable\n",
      "`--NotebookApp.iopub_data_rate_limit`.\n",
      "\n",
      "Current values:\n",
      "NotebookApp.iopub_data_rate_limit=1000000.0 (bytes/sec)\n",
      "NotebookApp.rate_limit_window=3.0 (secs)\n",
      "\n"
     ]
    }
   ],
   "source": [
    "print(lemmasDict.get())"
   ]
  },
  {
   "cell_type": "code",
   "execution_count": 4,
   "id": "assigned-singapore",
   "metadata": {},
   "outputs": [],
   "source": [
    "quotes = []\n",
    "index = defaultdict(set)\n",
    "\n",
    "with open(QUOTES_FILE) as f:\n",
    "    quoteNum = 0\n",
    "    for line in f:\n",
    "        curQuotes = line[2:].lower().replace(\"&lt;br /&gt\", '').replace('!', '.').replace('?', '.').split('.')\n",
    "        curQuotes = [q for q in curQuotes if len(q) > 3]\n",
    "        for q in curQuotes:\n",
    "            words = q.split()\n",
    "            if len(words) == 0:\n",
    "                continue\n",
    "            quotes.append(q)\n",
    "            for w in words:\n",
    "                if lemmasDict.get(w) != None:\n",
    "                    index[lemmasDict[w]].add(quoteNum)\n",
    "            quoteNum += 1\n",
    "        #print(curQuotes)\n",
    "\n"
   ]
  },
  {
   "cell_type": "code",
   "execution_count": 5,
   "id": "premium-commissioner",
   "metadata": {},
   "outputs": [
    {
     "name": "stdout",
     "output_type": "stream",
     "text": [
      "471898\n",
      "45894\n"
     ]
    }
   ],
   "source": [
    "print(len(quotes))\n",
    "print(len(index))"
   ]
  },
  {
   "cell_type": "code",
   "execution_count": 6,
   "id": "mental-model",
   "metadata": {},
   "outputs": [],
   "source": [
    "def searchQuotes(query):\n",
    "    query = query.lower()\n",
    "    allPossibilities = set.union(set(), *(index[lemmasDict.get(w)] for w in query.split() if w not in forbiddenWords))\n",
    "    return [quotes[idx] for idx in allPossibilities]"
   ]
  },
  {
   "cell_type": "code",
   "execution_count": 7,
   "id": "classified-bible",
   "metadata": {},
   "outputs": [
    {
     "data": {
      "text/plain": [
       "471898"
      ]
     },
     "execution_count": 7,
     "metadata": {},
     "output_type": "execute_result"
    }
   ],
   "source": [
    "len(quotes)"
   ]
  },
  {
   "cell_type": "code",
   "execution_count": 8,
   "id": "advisory-partner",
   "metadata": {},
   "outputs": [
    {
     "data": {
      "text/plain": [
       "[\"'''generał bogusław góra:''' lepszy z ciebie materiał na trupa niż na goryla\",\n",
       " 'święty bazyli wypuszcza stado goryli',\n",
       " ' mistrzowsko przeprowadzona narracja sprawia, że nikt z widzów nie podejrzewa o morderstwo goryla palmera, williamsa',\n",
       " ' moi goryle się pochowali',\n",
       " 'gdy dwa goryle płci męskiej spotkają się na ścieżce, stają wyprostowane, zaczynają walić się w piersi i ryczeć']"
      ]
     },
     "execution_count": 8,
     "metadata": {},
     "output_type": "execute_result"
    }
   ],
   "source": [
    "searchQuotes(\"goryle\")"
   ]
  },
  {
   "cell_type": "code",
   "execution_count": 9,
   "id": "peripheral-plastic",
   "metadata": {},
   "outputs": [],
   "source": [
    "useRand = False\n",
    "alreadyUsed = []\n",
    "\n",
    "matchExact = 1\n",
    "matchBase = 1\n",
    "penalty = -100\n",
    "\n",
    "def score(quote, query):\n",
    "    numWords = 0\n",
    "    if quote in alreadyUsed:\n",
    "        return penalty\n",
    "    if query in quote:\n",
    "        return penalty\n",
    "    for w in quote.split():\n",
    "        if w in query:\n",
    "            numWords+=1\n",
    "    if numWords >= 0.75 * len(quote.split()) and len(quote.split()) < 2* len(query.split()):\n",
    "        return penalty\n",
    "    me = matchExact * len([w for w in query.split() if w in quote])\n",
    "    basedQuote = [lemmasDict.get(w) for w in quote.split()]\n",
    "    mb = matchBase * len([w for w in query.split() if lemmasDict.get(w) in basedQuote])\n",
    "    return me + mb\n",
    "\n",
    "def ranking(quotes, query):\n",
    "    return [(q, score(q, query)) for q in quotes]\n",
    "\n",
    "def choose(ranked):\n",
    "    if len(ranked) == 0:\n",
    "        ranked = list(zip(defaultAnswers, len(defaultAnswers)*[1]))\n",
    "    if useRand:\n",
    "        quotes, scores = zip(*ranked)\n",
    "        ans = random.choices(quotes, weights=scores)[0]\n",
    "    else:\n",
    "        ans = max(ranked, key=lambda x:x[1])[0]\n",
    "    alreadyUsed.append(ans)\n",
    "    return ans"
   ]
  },
  {
   "cell_type": "code",
   "execution_count": 10,
   "id": "informed-platform",
   "metadata": {},
   "outputs": [
    {
     "data": {
      "text/plain": [
       "(0, 0, 0, 0, -100)"
      ]
     },
     "execution_count": 10,
     "metadata": {},
     "output_type": "execute_result"
    }
   ],
   "source": [
    "a, b  =zip(*ranking(searchQuotes(\"goryle\"), \"płci\"))\n",
    "b"
   ]
  },
  {
   "cell_type": "code",
   "execution_count": null,
   "id": "armed-nashville",
   "metadata": {},
   "outputs": [
    {
     "name": "stdout",
     "output_type": "stream",
     "text": [
      ": Jak napisać konspekt z etyki?\n",
      " aby dowiedzieć się, na czym polega rzetelna praca w tym zawodzie, wystarczy zapoznać się z kodeksem etyki dziennikarskiej napisanym przez bł\n"
     ]
    }
   ],
   "source": [
    "while True:\n",
    "    query = input(\": \")\n",
    "    if query == \"end\":\n",
    "        break\n",
    "    query = query.replace('?', '').replace('!', '').replace('.', '')\n",
    "    #print(query)\n",
    "    foudQuotes = searchQuotes(query)\n",
    "    ranked = ranking(foudQuotes, query)\n",
    "    ans = choose(ranked)\n",
    "    print(ans)\n"
   ]
  },
  {
   "cell_type": "code",
   "execution_count": null,
   "id": "variable-november",
   "metadata": {},
   "outputs": [],
   "source": []
  }
 ],
 "metadata": {
  "kernelspec": {
   "display_name": "Python 3",
   "language": "python",
   "name": "python3"
  },
  "language_info": {
   "codemirror_mode": {
    "name": "ipython",
    "version": 3
   },
   "file_extension": ".py",
   "mimetype": "text/x-python",
   "name": "python",
   "nbconvert_exporter": "python",
   "pygments_lexer": "ipython3",
   "version": "3.9.7"
  }
 },
 "nbformat": 4,
 "nbformat_minor": 5
}
